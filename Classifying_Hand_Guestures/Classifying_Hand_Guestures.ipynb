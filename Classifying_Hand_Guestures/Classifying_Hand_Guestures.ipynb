{
 "cells": [
  {
   "cell_type": "markdown",
   "metadata": {},
   "source": [
    "# Predicting if Hand Guesture is a Fist\n",
    "The dataset associated with this project is from kaggle (https://www.kaggle.com/kyr7plus/emg-4). The data is a reading of muscle activity in peoples' forearms while they made four different hand guestures, either rock, paper, scissors, or an okay sign. We appeded all the data into one file, then transformed it so the target variable was a 1 if the person was making a fist and zero otherwise. The code below attempts to predict if the person was making a fist or not."
   ]
  },
  {
   "cell_type": "markdown",
   "metadata": {},
   "source": [
    "##### First, import data manipulation tools"
   ]
  },
  {
   "cell_type": "code",
   "execution_count": 5,
   "metadata": {},
   "outputs": [],
   "source": [
    "import pandas as pd\n",
    "import numpy as np"
   ]
  },
  {
   "cell_type": "markdown",
   "metadata": {},
   "source": [
    "##### Then process the data\n",
    "Import it into a Panda's dataframe. The code below requires downloading the dataset."
   ]
  },
  {
   "cell_type": "code",
   "execution_count": 17,
   "metadata": {},
   "outputs": [],
   "source": [
    "df = pd.read_csv('Path-To-Hand_Guestures')"
   ]
  },
  {
   "cell_type": "code",
   "execution_count": 7,
   "metadata": {},
   "outputs": [
    {
     "name": "stdout",
     "output_type": "stream",
     "text": [
      "V1     11678\n",
      "V2     11678\n",
      "V3     11678\n",
      "V4     11678\n",
      "V5     11678\n",
      "       ...  \n",
      "V61    11678\n",
      "V62    11678\n",
      "V63    11678\n",
      "V64    11678\n",
      "V65    11678\n",
      "Length: 65, dtype: int64\n"
     ]
    }
   ],
   "source": [
    "nrows = df.count()\n",
    "print(nrows)"
   ]
  },
  {
   "cell_type": "code",
   "execution_count": 8,
   "metadata": {},
   "outputs": [
    {
     "data": {
      "text/html": [
       "<div>\n",
       "<style scoped>\n",
       "    .dataframe tbody tr th:only-of-type {\n",
       "        vertical-align: middle;\n",
       "    }\n",
       "\n",
       "    .dataframe tbody tr th {\n",
       "        vertical-align: top;\n",
       "    }\n",
       "\n",
       "    .dataframe thead th {\n",
       "        text-align: right;\n",
       "    }\n",
       "</style>\n",
       "<table border=\"1\" class=\"dataframe\">\n",
       "  <thead>\n",
       "    <tr style=\"text-align: right;\">\n",
       "      <th></th>\n",
       "      <th>V1</th>\n",
       "      <th>V2</th>\n",
       "      <th>V3</th>\n",
       "      <th>V4</th>\n",
       "      <th>V5</th>\n",
       "      <th>V6</th>\n",
       "      <th>V7</th>\n",
       "      <th>V8</th>\n",
       "      <th>V9</th>\n",
       "      <th>V10</th>\n",
       "      <th>...</th>\n",
       "      <th>V56</th>\n",
       "      <th>V57</th>\n",
       "      <th>V58</th>\n",
       "      <th>V59</th>\n",
       "      <th>V60</th>\n",
       "      <th>V61</th>\n",
       "      <th>V62</th>\n",
       "      <th>V63</th>\n",
       "      <th>V64</th>\n",
       "      <th>V65</th>\n",
       "    </tr>\n",
       "  </thead>\n",
       "  <tbody>\n",
       "    <tr>\n",
       "      <td>0</td>\n",
       "      <td>26</td>\n",
       "      <td>4</td>\n",
       "      <td>5</td>\n",
       "      <td>8</td>\n",
       "      <td>-1</td>\n",
       "      <td>-13</td>\n",
       "      <td>-109</td>\n",
       "      <td>-66</td>\n",
       "      <td>-9</td>\n",
       "      <td>2</td>\n",
       "      <td>...</td>\n",
       "      <td>-28</td>\n",
       "      <td>61</td>\n",
       "      <td>4</td>\n",
       "      <td>8</td>\n",
       "      <td>5</td>\n",
       "      <td>4</td>\n",
       "      <td>-7</td>\n",
       "      <td>-59</td>\n",
       "      <td>16</td>\n",
       "      <td>1</td>\n",
       "    </tr>\n",
       "    <tr>\n",
       "      <td>1</td>\n",
       "      <td>-47</td>\n",
       "      <td>-6</td>\n",
       "      <td>-5</td>\n",
       "      <td>-7</td>\n",
       "      <td>13</td>\n",
       "      <td>-1</td>\n",
       "      <td>35</td>\n",
       "      <td>-10</td>\n",
       "      <td>10</td>\n",
       "      <td>-4</td>\n",
       "      <td>...</td>\n",
       "      <td>-25</td>\n",
       "      <td>47</td>\n",
       "      <td>6</td>\n",
       "      <td>6</td>\n",
       "      <td>5</td>\n",
       "      <td>13</td>\n",
       "      <td>21</td>\n",
       "      <td>111</td>\n",
       "      <td>15</td>\n",
       "      <td>1</td>\n",
       "    </tr>\n",
       "    <tr>\n",
       "      <td>2</td>\n",
       "      <td>-19</td>\n",
       "      <td>-8</td>\n",
       "      <td>-8</td>\n",
       "      <td>-8</td>\n",
       "      <td>-21</td>\n",
       "      <td>-6</td>\n",
       "      <td>-79</td>\n",
       "      <td>12</td>\n",
       "      <td>0</td>\n",
       "      <td>5</td>\n",
       "      <td>...</td>\n",
       "      <td>-83</td>\n",
       "      <td>7</td>\n",
       "      <td>7</td>\n",
       "      <td>1</td>\n",
       "      <td>-8</td>\n",
       "      <td>7</td>\n",
       "      <td>21</td>\n",
       "      <td>114</td>\n",
       "      <td>48</td>\n",
       "      <td>1</td>\n",
       "    </tr>\n",
       "    <tr>\n",
       "      <td>3</td>\n",
       "      <td>2</td>\n",
       "      <td>3</td>\n",
       "      <td>0</td>\n",
       "      <td>2</td>\n",
       "      <td>0</td>\n",
       "      <td>22</td>\n",
       "      <td>106</td>\n",
       "      <td>-14</td>\n",
       "      <td>-16</td>\n",
       "      <td>-2</td>\n",
       "      <td>...</td>\n",
       "      <td>-38</td>\n",
       "      <td>-11</td>\n",
       "      <td>4</td>\n",
       "      <td>7</td>\n",
       "      <td>11</td>\n",
       "      <td>33</td>\n",
       "      <td>39</td>\n",
       "      <td>119</td>\n",
       "      <td>43</td>\n",
       "      <td>1</td>\n",
       "    </tr>\n",
       "    <tr>\n",
       "      <td>4</td>\n",
       "      <td>6</td>\n",
       "      <td>0</td>\n",
       "      <td>0</td>\n",
       "      <td>-2</td>\n",
       "      <td>-14</td>\n",
       "      <td>10</td>\n",
       "      <td>-51</td>\n",
       "      <td>5</td>\n",
       "      <td>7</td>\n",
       "      <td>0</td>\n",
       "      <td>...</td>\n",
       "      <td>38</td>\n",
       "      <td>-35</td>\n",
       "      <td>-8</td>\n",
       "      <td>2</td>\n",
       "      <td>6</td>\n",
       "      <td>-13</td>\n",
       "      <td>-24</td>\n",
       "      <td>-112</td>\n",
       "      <td>-69</td>\n",
       "      <td>1</td>\n",
       "    </tr>\n",
       "  </tbody>\n",
       "</table>\n",
       "<p>5 rows × 65 columns</p>\n",
       "</div>"
      ],
      "text/plain": [
       "   V1  V2  V3  V4  V5  V6   V7  V8  V9  V10  ...  V56  V57  V58  V59  V60  \\\n",
       "0  26   4   5   8  -1 -13 -109 -66  -9    2  ...  -28   61    4    8    5   \n",
       "1 -47  -6  -5  -7  13  -1   35 -10  10   -4  ...  -25   47    6    6    5   \n",
       "2 -19  -8  -8  -8 -21  -6  -79  12   0    5  ...  -83    7    7    1   -8   \n",
       "3   2   3   0   2   0  22  106 -14 -16   -2  ...  -38  -11    4    7   11   \n",
       "4   6   0   0  -2 -14  10  -51   5   7    0  ...   38  -35   -8    2    6   \n",
       "\n",
       "   V61  V62  V63  V64  V65  \n",
       "0    4   -7  -59   16    1  \n",
       "1   13   21  111   15    1  \n",
       "2    7   21  114   48    1  \n",
       "3   33   39  119   43    1  \n",
       "4  -13  -24 -112  -69    1  \n",
       "\n",
       "[5 rows x 65 columns]"
      ]
     },
     "execution_count": 8,
     "metadata": {},
     "output_type": "execute_result"
    }
   ],
   "source": [
    "df.head()"
   ]
  },
  {
   "cell_type": "markdown",
   "metadata": {},
   "source": [
    "##### Train, Test Split\n",
    "It is important to create a train, test split on the data. This way we can train our model then evaluate its performance. By including the random_state parameter in the function the results of the models will be replicable."
   ]
  },
  {
   "cell_type": "code",
   "execution_count": 9,
   "metadata": {},
   "outputs": [],
   "source": [
    "X = df.iloc[:, 0:64]\n",
    "y = df['V65']\n",
    "X = np.array(X)\n",
    "y = np.array(y)"
   ]
  },
  {
   "cell_type": "code",
   "execution_count": 10,
   "metadata": {},
   "outputs": [],
   "source": [
    "from sklearn.model_selection import train_test_split\n",
    "X_train, X_test, y_train, y_test = train_test_split(X, y, test_size=0.4, random_state = 42)"
   ]
  },
  {
   "cell_type": "markdown",
   "metadata": {},
   "source": [
    "##### Preproccessing\n",
    "Luckily, this dataset does not need much preproccessing. The only thing it really needs is to be scaled. By scaling the data we are ensuring that variation inside of features are being accounted for equally. We have many options to feature engineer from this step, but forewent that for this project. It seems even without the data transformations our models performed well."
   ]
  },
  {
   "cell_type": "code",
   "execution_count": 11,
   "metadata": {},
   "outputs": [],
   "source": [
    "from sklearn.pipeline import Pipeline\n",
    "from sklearn.preprocessing import StandardScaler\n",
    "from sklearn import linear_model\n",
    "preprocessor = Pipeline(steps=[('scaler', StandardScaler())])"
   ]
  },
  {
   "cell_type": "markdown",
   "metadata": {},
   "source": [
    "##### Choosing Models\n",
    "In this next step we define the models to run and their hyperparameters."
   ]
  },
  {
   "cell_type": "code",
   "execution_count": 19,
   "metadata": {},
   "outputs": [],
   "source": [
    "from sklearn.linear_model import LogisticRegression\n",
    "from sklearn.tree import DecisionTreeClassifier\n",
    "from sklearn.ensemble import RandomForestClassifier\n",
    "from sklearn.neighbors import KNeighborsClassifier\n",
    "from sklearn.neural_network import MLPClassifier\n",
    "from sklearn.ensemble import GradientBoostingClassifier\n",
    "classifiers = [\n",
    "    LogisticRegression(random_state = 42),\n",
    "    DecisionTreeClassifier(random_state = 42, min_samples_leaf = 10),\n",
    "    RandomForestClassifier(random_state = 42, min_samples_leaf = 10),\n",
    "    KNeighborsClassifier(),\n",
    "    MLPClassifier(solver='lbfgs', alpha=1e-5, hidden_layer_sizes=(5, 2), max_iter = 800, random_state=1),\n",
    "    GradientBoostingClassifier(n_estimators=100, learning_rate=1.0, max_depth=10, random_state=42)\n",
    "]"
   ]
  },
  {
   "cell_type": "markdown",
   "metadata": {},
   "source": [
    "##### Fitting Models\n",
    "Here we fit and evaluate the models. Metrics we are reporting on are:\n",
    "* Model Score\n",
    "* Average Precision Score\n",
    "* Roc AUC Score\n",
    "* Precision Recall AUC\n",
    "* 10 Most Predictive Features"
   ]
  },
  {
   "cell_type": "code",
   "execution_count": 13,
   "metadata": {},
   "outputs": [
    {
     "name": "stderr",
     "output_type": "stream",
     "text": [
      "C:\\Users\\Seth Grossman\\Anaconda3\\lib\\site-packages\\sklearn\\utils\\deprecation.py:144: FutureWarning: The sklearn.metrics.scorer module is  deprecated in version 0.22 and will be removed in version 0.24. The corresponding classes / functions should instead be imported from sklearn.metrics. Anything that cannot be imported from sklearn.metrics is now part of the private API.\n",
      "  warnings.warn(message, FutureWarning)\n",
      "C:\\Users\\Seth Grossman\\Anaconda3\\lib\\site-packages\\sklearn\\utils\\deprecation.py:144: FutureWarning: The sklearn.feature_selection.base module is  deprecated in version 0.22 and will be removed in version 0.24. The corresponding classes / functions should instead be imported from sklearn.feature_selection. Anything that cannot be imported from sklearn.feature_selection is now part of the private API.\n",
      "  warnings.warn(message, FutureWarning)\n"
     ]
    }
   ],
   "source": [
    "from sklearn.metrics import precision_recall_curve\n",
    "from sklearn.metrics import plot_precision_recall_curve\n",
    "from sklearn.metrics import average_precision_score\n",
    "from sklearn.metrics import roc_auc_score, roc_curve, auc\n",
    "import matplotlib.pyplot as plt\n",
    "import eli5\n",
    "from eli5.sklearn import PermutationImportance\n",
    "from eli5.formatters.as_dataframe import explain_weights_df"
   ]
  },
  {
   "cell_type": "code",
   "execution_count": 20,
   "metadata": {
    "scrolled": false
   },
   "outputs": [
    {
     "name": "stdout",
     "output_type": "stream",
     "text": [
      "LogisticRegression(C=1.0, class_weight=None, dual=False, fit_intercept=True,\n",
      "                   intercept_scaling=1, l1_ratio=None, max_iter=100,\n",
      "                   multi_class='auto', n_jobs=None, penalty='l2',\n",
      "                   random_state=42, solver='lbfgs', tol=0.0001, verbose=0,\n",
      "                   warm_start=False)\n",
      "model score: 0.793\n",
      "average precision score: 0.555\n",
      "roc_auc_score: 0.601\n",
      "precision-recall AUC: 0.555\n",
      "\n",
      "10 Most Predictive Features\n",
      "  feature    weight\n",
      "0     x23  0.181031\n",
      "1     x31  0.171829\n",
      "2     x13  0.142453\n",
      "3     x29  0.138993\n",
      "4     x45  0.132109\n",
      "5     x39  0.119345\n",
      "6     x53  0.111918\n",
      "7     x21  0.110538\n",
      "8     x15  0.107028\n",
      "9     x37  0.099581\n",
      "\n"
     ]
    },
    {
     "data": {
      "image/png": "[encoded data removed]",
      "text/plain": [
       "<Figure size 432x288 with 1 Axes>"
      ]
     },
     "metadata": {
      "needs_background": "light"
     },
     "output_type": "display_data"
    },
    {
     "name": "stdout",
     "output_type": "stream",
     "text": [
      "\n",
      "DecisionTreeClassifier(ccp_alpha=0.0, class_weight=None, criterion='gini',\n",
      "                       max_depth=None, max_features=None, max_leaf_nodes=None,\n",
      "                       min_impurity_decrease=0.0, min_impurity_split=None,\n",
      "                       min_samples_leaf=10, min_samples_split=2,\n",
      "                       min_weight_fraction_leaf=0.0, presort='deprecated',\n",
      "                       random_state=42, splitter='best')\n",
      "model score: 0.948\n",
      "average precision score: 0.915\n",
      "roc_auc_score: 0.967\n",
      "precision-recall AUC: 0.944\n",
      "\n",
      "10 Most Predictive Features\n",
      "  feature    weight\n",
      "0     x30  0.545616\n",
      "1     x38  0.125713\n",
      "2     x46  0.073144\n",
      "3     x54  0.043209\n",
      "4     x29  0.038881\n",
      "5     x62  0.026360\n",
      "6     x45  0.021909\n",
      "7     x53  0.018536\n",
      "8     x22  0.018205\n",
      "9     x21  0.016608\n",
      "\n"
     ]
    },
    {
     "data": {
      "image/png": "[encoded data removed]",
      "text/plain": [
       "<Figure size 432x288 with 1 Axes>"
      ]
     },
     "metadata": {
      "needs_background": "light"
     },
     "output_type": "display_data"
    },
    {
     "name": "stdout",
     "output_type": "stream",
     "text": [
      "\n",
      "RandomForestClassifier(bootstrap=True, ccp_alpha=0.0, class_weight=None,\n",
      "                       criterion='gini', max_depth=None, max_features='auto',\n",
      "                       max_leaf_nodes=None, max_samples=None,\n",
      "                       min_impurity_decrease=0.0, min_impurity_split=None,\n",
      "                       min_samples_leaf=10, min_samples_split=2,\n",
      "                       min_weight_fraction_leaf=0.0, n_estimators=100,\n",
      "                       n_jobs=None, oob_score=False, random_state=42, verbose=0,\n",
      "                       warm_start=False)\n",
      "model score: 0.971\n",
      "average precision score: 0.990\n",
      "roc_auc_score: 0.996\n",
      "precision-recall AUC: 0.990\n",
      "\n",
      "10 Most Predictive Features\n",
      "  feature    weight\n",
      "0     x30  0.121882\n",
      "1     x62  0.119332\n",
      "2      x6  0.111696\n",
      "3     x38  0.107103\n",
      "4     x46  0.102759\n",
      "5     x54  0.097913\n",
      "6     x14  0.097106\n",
      "7     x22  0.076027\n",
      "8     x35  0.011714\n",
      "9     x43  0.009549\n",
      "\n"
     ]
    },
    {
     "data": {
      "image/png": "[encoded data removed]",
      "text/plain": [
       "<Figure size 432x288 with 1 Axes>"
      ]
     },
     "metadata": {
      "needs_background": "light"
     },
     "output_type": "display_data"
    },
    {
     "name": "stdout",
     "output_type": "stream",
     "text": [
      "\n",
      "KNeighborsClassifier(algorithm='auto', leaf_size=30, metric='minkowski',\n",
      "                     metric_params=None, n_jobs=None, n_neighbors=5, p=2,\n",
      "                     weights='uniform')\n",
      "model score: 0.878\n",
      "average precision score: 0.839\n",
      "roc_auc_score: 0.913\n",
      "precision-recall AUC: 0.894\n",
      "\n",
      "MLPClassifier(activation='relu', alpha=1e-05, batch_size='auto', beta_1=0.9,\n",
      "              beta_2=0.999, early_stopping=False, epsilon=1e-08,\n",
      "              hidden_layer_sizes=(5, 2), learning_rate='constant',\n",
      "              learning_rate_init=0.001, max_fun=15000, max_iter=800,\n",
      "              momentum=0.9, n_iter_no_change=10, nesterovs_momentum=True,\n",
      "              power_t=0.5, random_state=1, shuffle=True, solver='lbfgs',\n",
      "              tol=0.0001, validation_fraction=0.1, verbose=False,\n",
      "              warm_start=False)\n",
      "model score: 0.952\n",
      "average precision score: 0.967\n",
      "roc_auc_score: 0.983\n",
      "precision-recall AUC: 0.968\n",
      "\n",
      "GradientBoostingClassifier(ccp_alpha=0.0, criterion='friedman_mse', init=None,\n",
      "                           learning_rate=1.0, loss='deviance', max_depth=10,\n",
      "                           max_features=None, max_leaf_nodes=None,\n",
      "                           min_impurity_decrease=0.0, min_impurity_split=None,\n",
      "                           min_samples_leaf=1, min_samples_split=2,\n",
      "                           min_weight_fraction_leaf=0.0, n_estimators=100,\n",
      "                           n_iter_no_change=None, presort='deprecated',\n",
      "                           random_state=42, subsample=1.0, tol=0.0001,\n",
      "                           validation_fraction=0.1, verbose=0,\n",
      "                           warm_start=False)\n",
      "model score: 0.973\n",
      "average precision score: 0.971\n",
      "roc_auc_score: 0.994\n",
      "precision-recall AUC: 0.971\n",
      "\n",
      "10 Most Predictive Features\n",
      "  feature    weight\n",
      "0     x30  0.479756\n",
      "1     x38  0.121433\n",
      "2     x46  0.068439\n",
      "3     x54  0.041818\n",
      "4     x29  0.028629\n",
      "5     x62  0.027706\n",
      "6     x45  0.023105\n",
      "7     x21  0.021748\n",
      "8     x53  0.020514\n",
      "9     x22  0.016657\n",
      "\n"
     ]
    },
    {
     "data": {
      "image/png": "[encoded data removed]",
      "text/plain": [
       "<Figure size 432x288 with 1 Axes>"
      ]
     },
     "metadata": {
      "needs_background": "light"
     },
     "output_type": "display_data"
    },
    {
     "name": "stdout",
     "output_type": "stream",
     "text": [
      "\n"
     ]
    },
    {
     "data": {
      "text/plain": [
       "<matplotlib.legend.Legend at 0x1fc4195fd08>"
      ]
     },
     "execution_count": 20,
     "metadata": {},
     "output_type": "execute_result"
    },
    {
     "data": {
      "image/png": "[encoded data removed]",
      "text/plain": [
       "<Figure size 432x288 with 1 Axes>"
      ]
     },
     "metadata": {
      "needs_background": "light"
     },
     "output_type": "display_data"
    },
    {
     "data": {
      "image/png": "[encoded data removed]",
      "text/plain": [
       "<Figure size 432x288 with 1 Axes>"
      ]
     },
     "metadata": {
      "needs_background": "light"
     },
     "output_type": "display_data"
    }
   ],
   "source": [
    "np.random.seed(42)\n",
    "\n",
    "clf = Pipeline(steps=[('preprocessor', preprocessor),\n",
    "                      ('clf', None)])\n",
    "roc_things = []\n",
    "precision_recall_things = []\n",
    "\n",
    "for classifier in classifiers:\n",
    "    clf.set_params(clf=classifier).fit(X_train, y_train)\n",
    "    classifier_name = classifier.__class__.__name__\n",
    "    print(str(classifier))\n",
    "    print(\"model score: %.3f\" % clf.score(X_test, y_test))\n",
    "    \n",
    "    \n",
    "    y_score = np.array(clf.predict_proba(X_test)[:,1])\n",
    "    roc_auc = roc_auc_score(y_test, y_score)\n",
    "    \n",
    "    fpr, tpr, _ = roc_curve(y_test, y_score)\n",
    "    roc_things.append((fpr, tpr, '{} AUC: {:.3f}'.format(classifier_name, roc_auc)))\n",
    "    \n",
    "    precision, recall, thresholds = precision_recall_curve(y_test, y_score)\n",
    "    pr_auc = auc(recall, precision)\n",
    "    precision_recall_things.append((recall, precision, thresholds, '{} AUC: {:.3f}'.format(classifier_name, pr_auc)))\n",
    "    \n",
    "    print('average precision score: {:.3f}'.format(average_precision_score(y_test, y_score)))\n",
    "    print('roc_auc_score: {:.3f}'.format(roc_auc))\n",
    "    print('precision-recall AUC: {:.3f}'.format(pr_auc))\n",
    "    print()\n",
    "    try:\n",
    "        importances = explain_weights_df(classifier)\n",
    "        weights_df = importances[:10][['feature','weight']]\n",
    "        print('10 Most Predictive Features')\n",
    "        print(weights_df)\n",
    "        print()\n",
    "        plt.bar(x = weights_df['feature'], height = weights_df['weight'])\n",
    "        plt.title('Top 10 Predictive Features ' + str(classifier).split('(')[0])\n",
    "        plt.show()\n",
    "        print()\n",
    "    except:\n",
    "        pass\n",
    "    \n",
    "roc_plt = plt.figure()\n",
    "lw = 4\n",
    "for roc_thing in roc_things:\n",
    "    fpr, tpr, label = roc_thing\n",
    "    plt.plot(fpr, tpr, lw=lw, label=label)\n",
    "plt.plot([0, 1], [0, 1], color='navy', lw=lw, linestyle='--')\n",
    "plt.legend()\n",
    "plt.title('ROC curve')\n",
    "          \n",
    "pr_plt = plt.figure()\n",
    "for pr_thing in precision_recall_things:\n",
    "    recall, precision, _, label = pr_thing\n",
    "    plt.plot(recall, precision, lw=lw, label=label)\n",
    "plt.title('Precision-recall plot')\n",
    "plt.legend()"
   ]
  },
  {
   "cell_type": "markdown",
   "metadata": {},
   "source": [
    "##### Optimize F1\n",
    "Last, the model that performed the best in terms of precision recall was the Random Forest. In order to find F1 score of the Random Forest we can run the code below. The F1 score is just a weighted average of the precision and recall. It attempts to find a balance between the two metrics."
   ]
  },
  {
   "cell_type": "code",
   "execution_count": 15,
   "metadata": {},
   "outputs": [
    {
     "name": "stdout",
     "output_type": "stream",
     "text": [
      "threshold that optimizes f1: 0.6044107039930562\n"
     ]
    }
   ],
   "source": [
    "from scipy.stats import hmean\n",
    "import numpy.ma as ma\n",
    "\n",
    "recall, precision, thresholds, _ = precision_recall_things[2]\n",
    "\n",
    "a = np.column_stack((recall,precision))\n",
    "\n",
    "a = ma.masked_less_equal(a, 0)\n",
    "a = ma.mask_rows(a)\n",
    "f1 = hmean(a,axis=1)\n",
    "\n",
    "threshold_that_maximizes_f1 = thresholds[np.argmax(f1)]\n",
    "print('threshold that optimizes f1: {}'.format(threshold_that_maximizes_f1))"
   ]
  }
 ],
 "metadata": {
  "kernelspec": {
   "display_name": "Python 3",
   "language": "python",
   "name": "python3"
  },
  "language_info": {
   "codemirror_mode": {
    "name": "ipython",
    "version": 3
   },
   "file_extension": ".py",
   "mimetype": "text/x-python",
   "name": "python",
   "nbconvert_exporter": "python",
   "pygments_lexer": "ipython3",
   "version": "3.7.4"
  }
 },
 "nbformat": 4,
 "nbformat_minor": 2
}
